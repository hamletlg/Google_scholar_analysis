{
  "cells": [
    {
      "cell_type": "code",
      "source": [
        "import warnings\n",
        "warnings.filterwarnings('ignore')\n",
        "warnings.simplefilter('ignore', category=DeprecationWarning)\n",
        "\n",
        "data = \"CULTURAL_IDENTITY_GOOGLE_SEARCH.csv\""
      ],
      "outputs": [],
      "execution_count": null,
      "metadata": {
        "collapsed": true,
        "jupyter": {
          "source_hidden": false,
          "outputs_hidden": false
        },
        "nteract": {
          "transient": {
            "deleting": false
          }
        },
        "execution": {
          "iopub.status.busy": "2022-05-11T15:26:27.812Z",
          "iopub.execute_input": "2022-05-11T15:26:27.832Z",
          "iopub.status.idle": "2022-05-11T15:26:27.860Z",
          "shell.execute_reply": "2022-05-11T15:26:27.873Z"
        }
      }
    },
    {
      "cell_type": "code",
      "source": [
        "import pandas as pd\n",
        "import matplotlib.pyplot as plt\n",
        "plt.style.use('ggplot')\n",
        "plt.rcParams['figure.figsize'] = [16, 5]\n",
        "import textacy"
      ],
      "outputs": [],
      "execution_count": null,
      "metadata": {
        "collapsed": true,
        "jupyter": {
          "source_hidden": false,
          "outputs_hidden": false
        },
        "nteract": {
          "transient": {
            "deleting": false
          }
        },
        "execution": {
          "iopub.status.busy": "2022-05-11T15:21:04.994Z",
          "iopub.execute_input": "2022-05-11T15:21:05.008Z",
          "shell.execute_reply": "2022-05-11T15:21:08.886Z",
          "iopub.status.idle": "2022-05-11T15:21:08.907Z"
        }
      }
    },
    {
      "cell_type": "code",
      "source": [
        "df = pd.read_csv(data)"
      ],
      "outputs": [],
      "execution_count": null,
      "metadata": {
        "collapsed": true,
        "jupyter": {
          "source_hidden": false,
          "outputs_hidden": false
        },
        "nteract": {
          "transient": {
            "deleting": false
          }
        },
        "execution": {
          "iopub.status.busy": "2022-05-11T15:21:08.928Z",
          "iopub.execute_input": "2022-05-11T15:21:08.940Z",
          "shell.execute_reply": "2022-05-11T15:21:09.020Z",
          "iopub.status.idle": "2022-05-11T15:21:08.961Z"
        }
      }
    },
    {
      "cell_type": "code",
      "source": [
        "df.describe()"
      ],
      "outputs": [],
      "execution_count": null,
      "metadata": {
        "collapsed": true,
        "jupyter": {
          "source_hidden": false,
          "outputs_hidden": false
        },
        "nteract": {
          "transient": {
            "deleting": false
          }
        },
        "execution": {
          "iopub.status.busy": "2022-05-11T15:21:08.983Z",
          "iopub.execute_input": "2022-05-11T15:21:08.998Z",
          "iopub.status.idle": "2022-05-11T15:21:09.139Z",
          "shell.execute_reply": "2022-05-11T15:21:09.032Z"
        }
      }
    },
    {
      "cell_type": "code",
      "source": [
        "df.columns"
      ],
      "outputs": [],
      "execution_count": null,
      "metadata": {
        "collapsed": true,
        "jupyter": {
          "source_hidden": false,
          "outputs_hidden": false
        },
        "nteract": {
          "transient": {
            "deleting": false
          }
        },
        "execution": {
          "iopub.status.busy": "2022-05-11T15:21:09.157Z",
          "iopub.execute_input": "2022-05-11T15:21:09.170Z",
          "iopub.status.idle": "2022-05-11T15:21:09.204Z",
          "shell.execute_reply": "2022-05-11T15:21:09.282Z"
        }
      }
    },
    {
      "cell_type": "code",
      "source": [
        "#fig, ax = plt.subplots(figsize = (16, 5))\n",
        "df.groupby(df['Year']).size().plot.bar()"
      ],
      "outputs": [],
      "execution_count": null,
      "metadata": {
        "collapsed": true,
        "jupyter": {
          "source_hidden": false,
          "outputs_hidden": false
        },
        "nteract": {
          "transient": {
            "deleting": false
          }
        },
        "execution": {
          "iopub.status.busy": "2022-05-11T15:21:09.229Z",
          "iopub.execute_input": "2022-05-11T15:21:09.242Z",
          "iopub.status.idle": "2022-05-11T15:21:10.222Z",
          "shell.execute_reply": "2022-05-11T15:21:10.389Z"
        }
      }
    },
    {
      "cell_type": "code",
      "source": [
        "df['RankRange'] = pd.qcut(df['CitesPerYear'], q = 3, labels = ['B', 'M', 'A'])"
      ],
      "outputs": [],
      "execution_count": null,
      "metadata": {
        "collapsed": true,
        "jupyter": {
          "source_hidden": false,
          "outputs_hidden": false
        },
        "nteract": {
          "transient": {
            "deleting": false
          }
        },
        "execution": {
          "iopub.status.busy": "2022-05-11T15:35:58.420Z",
          "iopub.execute_input": "2022-05-11T15:35:58.506Z",
          "iopub.status.idle": "2022-05-11T15:35:58.537Z",
          "shell.execute_reply": "2022-05-11T15:35:58.554Z"
        }
      }
    },
    {
      "cell_type": "code",
      "source": [
        "df.RankRange.describe()"
      ],
      "outputs": [],
      "execution_count": null,
      "metadata": {
        "collapsed": true,
        "jupyter": {
          "source_hidden": false,
          "outputs_hidden": false
        },
        "nteract": {
          "transient": {
            "deleting": false
          }
        },
        "execution": {
          "iopub.status.busy": "2022-05-11T15:36:00.753Z",
          "iopub.execute_input": "2022-05-11T15:36:00.770Z",
          "iopub.status.idle": "2022-05-11T15:36:00.803Z",
          "shell.execute_reply": "2022-05-11T15:36:00.818Z"
        }
      }
    },
    {
      "cell_type": "code",
      "source": [
        "\n",
        "df_crtb = pd.crosstab(df['Year'], df['RankRange'])\n"
      ],
      "outputs": [],
      "execution_count": null,
      "metadata": {
        "collapsed": true,
        "jupyter": {
          "source_hidden": false,
          "outputs_hidden": false
        },
        "nteract": {
          "transient": {
            "deleting": false
          }
        },
        "execution": {
          "iopub.status.busy": "2022-05-11T15:36:03.304Z",
          "iopub.execute_input": "2022-05-11T15:36:03.319Z",
          "iopub.status.idle": "2022-05-11T15:36:03.344Z",
          "shell.execute_reply": "2022-05-11T15:36:03.366Z"
        }
      }
    },
    {
      "cell_type": "code",
      "source": [
        "df"
      ],
      "outputs": [],
      "execution_count": null,
      "metadata": {
        "collapsed": true,
        "jupyter": {
          "source_hidden": false,
          "outputs_hidden": false
        },
        "nteract": {
          "transient": {
            "deleting": false
          }
        },
        "execution": {
          "iopub.status.busy": "2022-05-11T15:36:05.447Z",
          "iopub.execute_input": "2022-05-11T15:36:05.470Z",
          "iopub.status.idle": "2022-05-11T15:36:05.505Z",
          "shell.execute_reply": "2022-05-11T15:36:05.556Z"
        }
      }
    },
    {
      "cell_type": "code",
      "source": [
        "#plt.figure(figsize = (16, 5))\n",
        "df_crtb.plot.bar()"
      ],
      "outputs": [],
      "execution_count": null,
      "metadata": {
        "collapsed": true,
        "jupyter": {
          "source_hidden": false,
          "outputs_hidden": false
        },
        "nteract": {
          "transient": {
            "deleting": false
          }
        },
        "execution": {
          "iopub.status.busy": "2022-05-11T15:36:29.660Z",
          "iopub.execute_input": "2022-05-11T15:36:29.677Z",
          "iopub.status.idle": "2022-05-11T15:36:30.836Z",
          "shell.execute_reply": "2022-05-11T15:36:30.868Z"
        }
      }
    },
    {
      "cell_type": "code",
      "source": [
        "serie_publisher = df.groupby(df['Publisher']).size().sort_values(ascending=False)\n",
        "serie_publisher.head(15)"
      ],
      "outputs": [],
      "execution_count": null,
      "metadata": {
        "collapsed": true,
        "jupyter": {
          "source_hidden": false,
          "outputs_hidden": false
        },
        "nteract": {
          "transient": {
            "deleting": false
          }
        },
        "execution": {
          "iopub.status.busy": "2022-05-11T15:21:11.994Z",
          "iopub.execute_input": "2022-05-11T15:21:12.006Z",
          "iopub.status.idle": "2022-05-11T15:21:12.034Z",
          "shell.execute_reply": "2022-05-11T15:21:12.167Z"
        }
      }
    },
    {
      "cell_type": "code",
      "source": [
        "serie_author = df.groupby(df['Authors']).size().sort_values(ascending=False)\n",
        "serie_author.head(15)"
      ],
      "outputs": [],
      "execution_count": null,
      "metadata": {
        "collapsed": true,
        "jupyter": {
          "source_hidden": false,
          "outputs_hidden": false
        },
        "nteract": {
          "transient": {
            "deleting": false
          }
        },
        "execution": {
          "iopub.status.busy": "2022-05-11T15:21:12.055Z",
          "iopub.execute_input": "2022-05-11T15:21:12.066Z",
          "iopub.status.idle": "2022-05-11T15:21:12.093Z",
          "shell.execute_reply": "2022-05-11T15:21:12.176Z"
        }
      }
    },
    {
      "cell_type": "code",
      "source": [
        "import gensim, spacy, logging, warnings\n",
        "import gensim.corpora as corpora\n",
        "from gensim.utils import simple_preprocess\n",
        "from gensim.models import CoherenceModel\n",
        "\n",
        "from nltk.stem.wordnet import WordNetLemmatizer\n",
        "from nltk.corpus import stopwords\n",
        "stop_words = stopwords.words('english')"
      ],
      "outputs": [],
      "execution_count": null,
      "metadata": {
        "collapsed": true,
        "jupyter": {
          "source_hidden": false,
          "outputs_hidden": false
        },
        "nteract": {
          "transient": {
            "deleting": false
          }
        },
        "execution": {
          "iopub.status.busy": "2022-05-11T15:21:12.111Z",
          "iopub.execute_input": "2022-05-11T15:21:12.123Z",
          "iopub.status.idle": "2022-05-11T15:21:12.765Z",
          "shell.execute_reply": "2022-05-11T15:21:12.932Z"
        }
      }
    },
    {
      "cell_type": "code",
      "source": [
        "stop_words.append('cultural')\n",
        "stop_words.append('identity')"
      ],
      "outputs": [],
      "execution_count": null,
      "metadata": {
        "collapsed": true,
        "jupyter": {
          "source_hidden": false,
          "outputs_hidden": false
        },
        "nteract": {
          "transient": {
            "deleting": false
          }
        },
        "execution": {
          "iopub.status.busy": "2022-05-11T15:21:12.792Z",
          "iopub.execute_input": "2022-05-11T15:21:12.803Z",
          "iopub.status.idle": "2022-05-11T15:21:12.822Z",
          "shell.execute_reply": "2022-05-11T15:21:12.942Z"
        }
      }
    },
    {
      "cell_type": "code",
      "source": [
        "def sent_to_words(sentences):\n",
        "  for sent in sentences:\n",
        "    sent = gensim.utils.simple_preprocess(str(sent), deacc=True)\n",
        "    yield(sent)"
      ],
      "outputs": [],
      "execution_count": null,
      "metadata": {
        "collapsed": true,
        "jupyter": {
          "source_hidden": false,
          "outputs_hidden": false
        },
        "nteract": {
          "transient": {
            "deleting": false
          }
        },
        "execution": {
          "iopub.status.busy": "2022-05-11T15:21:12.840Z",
          "iopub.execute_input": "2022-05-11T15:21:12.856Z",
          "iopub.status.idle": "2022-05-11T15:21:12.877Z",
          "shell.execute_reply": "2022-05-11T15:21:12.950Z"
        }
      }
    },
    {
      "cell_type": "code",
      "source": [
        "text_data = df['Title'].values.tolist()\n",
        "data_words = list(sent_to_words(text_data))"
      ],
      "outputs": [],
      "execution_count": null,
      "metadata": {
        "collapsed": true,
        "jupyter": {
          "source_hidden": false,
          "outputs_hidden": false
        },
        "nteract": {
          "transient": {
            "deleting": false
          }
        },
        "execution": {
          "iopub.status.busy": "2022-05-11T15:21:12.897Z",
          "iopub.execute_input": "2022-05-11T15:21:12.909Z",
          "iopub.status.idle": "2022-05-11T15:21:12.991Z",
          "shell.execute_reply": "2022-05-11T15:21:12.974Z"
        }
      }
    },
    {
      "cell_type": "code",
      "source": [
        "bigram = gensim.models.Phrases(data_words, min_count=5, threshold=100) # higher threshold fewer phrases.\n",
        "trigram = gensim.models.Phrases(bigram[data_words], threshold=100)  \n",
        "bigram_mod = gensim.models.phrases.Phraser(bigram)\n",
        "trigram_mod = gensim.models.phrases.Phraser(trigram)"
      ],
      "outputs": [],
      "execution_count": null,
      "metadata": {
        "collapsed": true,
        "jupyter": {
          "source_hidden": false,
          "outputs_hidden": false
        },
        "nteract": {
          "transient": {
            "deleting": false
          }
        },
        "execution": {
          "iopub.status.busy": "2022-05-11T15:21:13.009Z",
          "iopub.execute_input": "2022-05-11T15:21:13.022Z",
          "shell.execute_reply": "2022-05-11T15:21:13.156Z",
          "iopub.status.idle": "2022-05-11T15:21:13.173Z"
        }
      }
    },
    {
      "cell_type": "code",
      "source": [
        "def process_words(texts, stop_words=stop_words, allowed_postags=['NOUN', 'ADJ', 'VERB', 'ADV']):\n",
        "    \"\"\"Remove Stopwords, Form Bigrams, Trigrams and Lemmatization\"\"\"\n",
        "    texts = [[word for word in simple_preprocess(str(doc)) if word not in stop_words] for doc in texts]\n",
        "    texts = [bigram_mod[doc] for doc in texts]\n",
        "    texts = [trigram_mod[bigram_mod[doc]] for doc in texts]\n",
        "    texts_out = []\n",
        "    nlp = spacy.load(\"en_core_web_sm\", disable=['parser', 'ner'])\n",
        "    for sent in texts:\n",
        "        doc = nlp(\" \".join(sent)) \n",
        "        texts_out.append([token.lemma_ for token in doc if token.pos_ in allowed_postags])\n",
        "    # remove stopwords once more after lemmatization\n",
        "    texts_out = [[word for word in simple_preprocess(str(doc)) if word not in stop_words] for doc in texts_out]    \n",
        "    return texts_out"
      ],
      "outputs": [],
      "execution_count": null,
      "metadata": {
        "collapsed": true,
        "jupyter": {
          "source_hidden": false,
          "outputs_hidden": false
        },
        "nteract": {
          "transient": {
            "deleting": false
          }
        },
        "execution": {
          "iopub.status.busy": "2022-05-11T15:21:13.190Z",
          "iopub.execute_input": "2022-05-11T15:21:13.201Z",
          "iopub.status.idle": "2022-05-11T15:21:13.232Z",
          "shell.execute_reply": "2022-05-11T15:21:13.277Z"
        }
      }
    },
    {
      "cell_type": "code",
      "source": [
        "data_ready = process_words(data_words)"
      ],
      "outputs": [],
      "execution_count": null,
      "metadata": {
        "collapsed": true,
        "jupyter": {
          "source_hidden": false,
          "outputs_hidden": false
        },
        "nteract": {
          "transient": {
            "deleting": false
          }
        },
        "execution": {
          "iopub.status.busy": "2022-05-11T15:21:13.250Z",
          "iopub.execute_input": "2022-05-11T15:21:13.263Z",
          "shell.execute_reply": "2022-05-11T15:21:17.709Z",
          "iopub.status.idle": "2022-05-11T15:21:17.726Z"
        }
      }
    },
    {
      "cell_type": "code",
      "source": [
        "# Create Dictionary\n",
        "id2word = corpora.Dictionary(data_ready)\n",
        "\n",
        "# Create Corpus: Term Document Frequency\n",
        "corpus = [id2word.doc2bow(text) for text in data_ready]\n",
        "\n",
        "# Build LDA model\n",
        "lda_model = gensim.models.ldamodel.LdaModel(corpus=corpus,\n",
        "                                           id2word=id2word,\n",
        "                                           num_topics=6, \n",
        "                                           random_state=100,\n",
        "                                           update_every=1,\n",
        "                                           chunksize=10,\n",
        "                                           passes=10,\n",
        "                                           alpha='symmetric',\n",
        "                                           iterations=100,\n",
        "                                           per_word_topics=True)\n"
      ],
      "outputs": [],
      "execution_count": null,
      "metadata": {
        "collapsed": true,
        "jupyter": {
          "source_hidden": false,
          "outputs_hidden": false
        },
        "nteract": {
          "transient": {
            "deleting": false
          }
        },
        "execution": {
          "iopub.status.busy": "2022-05-11T15:52:03.687Z",
          "iopub.execute_input": "2022-05-11T15:52:03.705Z",
          "iopub.status.idle": "2022-05-11T15:52:07.019Z",
          "shell.execute_reply": "2022-05-11T15:52:07.049Z"
        }
      }
    },
    {
      "cell_type": "code",
      "source": [
        "from pprint import pprint\n",
        "\n",
        "pprint(lda_model.print_topics())"
      ],
      "outputs": [],
      "execution_count": null,
      "metadata": {
        "collapsed": true,
        "jupyter": {
          "source_hidden": false,
          "outputs_hidden": false
        },
        "nteract": {
          "transient": {
            "deleting": false
          }
        },
        "execution": {
          "iopub.status.busy": "2022-05-11T15:52:08.339Z",
          "iopub.execute_input": "2022-05-11T15:52:08.358Z",
          "iopub.status.idle": "2022-05-11T15:52:08.393Z",
          "shell.execute_reply": "2022-05-11T15:52:08.407Z"
        }
      }
    },
    {
      "cell_type": "code",
      "source": [
        "def format_topics_sentences(ldamodel=None, corpus=corpus, texts=data):\n",
        "    # Init output\n",
        "    sent_topics_df = pd.DataFrame()\n",
        "\n",
        "    # Get main topic in each document\n",
        "    for i, row_list in enumerate(ldamodel[corpus]):\n",
        "        row = row_list[0] if ldamodel.per_word_topics else row_list            \n",
        "        # print(row)\n",
        "        row = sorted(row, key=lambda x: (x[1]), reverse=True)\n",
        "        # Get the Dominant topic, Perc Contribution and Keywords for each document\n",
        "        for j, (topic_num, prop_topic) in enumerate(row):\n",
        "            if j == 0:  # => dominant topic\n",
        "                wp = ldamodel.show_topic(topic_num)\n",
        "                topic_keywords = \", \".join([word for word, prop in wp])\n",
        "                sent_topics_df = sent_topics_df.append(pd.Series([int(topic_num), round(prop_topic,4), topic_keywords]), ignore_index=True)\n",
        "            else:\n",
        "                break\n",
        "    sent_topics_df.columns = ['Dominant_Topic', 'Perc_Contribution', 'Topic_Keywords']\n",
        "    # Add original text to the end of the output\n",
        "    contents = pd.Series(texts)\n",
        "    sent_topics_df = pd.concat([sent_topics_df, contents], axis=1)\n",
        "    return(sent_topics_df)\n",
        "      "
      ],
      "outputs": [],
      "execution_count": null,
      "metadata": {
        "collapsed": true,
        "jupyter": {
          "source_hidden": false,
          "outputs_hidden": false
        },
        "nteract": {
          "transient": {
            "deleting": false
          }
        },
        "execution": {
          "iopub.status.busy": "2022-05-11T15:52:12.687Z",
          "iopub.execute_input": "2022-05-11T15:52:12.703Z",
          "iopub.status.idle": "2022-05-11T15:52:12.724Z",
          "shell.execute_reply": "2022-05-11T15:52:12.739Z"
        }
      }
    },
    {
      "cell_type": "code",
      "source": [
        "df_topic_sents_keywords = format_topics_sentences(ldamodel=lda_model, corpus=corpus, texts=data_ready)\n",
        "\n",
        "# Display setting to show more characters in column\n",
        "pd.options.display.max_colwidth = 100\n",
        "\n",
        "sent_topics_sorteddf_mallet = pd.DataFrame()\n",
        "sent_topics_outdf_grpd = df_topic_sents_keywords.groupby('Dominant_Topic')\n",
        "\n",
        "for i, grp in sent_topics_outdf_grpd:\n",
        "    sent_topics_sorteddf_mallet = pd.concat([sent_topics_sorteddf_mallet, \n",
        "                                             grp.sort_values(['Perc_Contribution'], ascending=False).head(1)], \n",
        "                                            axis=0)\n",
        "\n",
        "# Reset Index    \n",
        "sent_topics_sorteddf_mallet.reset_index(drop=True, inplace=True)\n",
        "\n",
        "# Format\n",
        "sent_topics_sorteddf_mallet.columns = ['Topic_Num', \"Topic_Perc_Contrib\", \"Keywords\", \"Representative Text\"]\n",
        "\n",
        "# Show\n",
        "sent_topics_sorteddf_mallet.head(10)"
      ],
      "outputs": [],
      "execution_count": null,
      "metadata": {
        "collapsed": true,
        "jupyter": {
          "source_hidden": false,
          "outputs_hidden": false
        },
        "nteract": {
          "transient": {
            "deleting": false
          }
        },
        "execution": {
          "iopub.status.busy": "2022-05-11T15:52:17.289Z",
          "iopub.execute_input": "2022-05-11T15:52:17.308Z",
          "iopub.status.idle": "2022-05-11T15:52:20.224Z",
          "shell.execute_reply": "2022-05-11T15:52:20.257Z"
        }
      }
    },
    {
      "cell_type": "code",
      "source": [
        "import matplotlib.colors as mcolors\n",
        "from wordcloud import WordCloud, STOPWORDS\n",
        "\n",
        "cols = [color for name, color in mcolors.TABLEAU_COLORS.items()] \n",
        "\n",
        "cloud = WordCloud(stopwords=stop_words,\n",
        "                  background_color='white',\n",
        "                  width=2500,\n",
        "                  height=1800,\n",
        "                  max_words=10,\n",
        "                  colormap='tab10',\n",
        "                  color_func=lambda *args, **kwargs: cols[i],\n",
        "                  prefer_horizontal=1.0)\n",
        "\n",
        "topics = lda_model.show_topics(formatted=False)\n",
        "\n",
        "fig, axes = plt.subplots(2, 3, figsize=(10,10), sharex=True, sharey=True)\n",
        "\n",
        "for i, ax in enumerate(axes.flatten()):\n",
        "    #if i >= 3:\n",
        "      #break\n",
        "    fig.add_subplot(ax)\n",
        "    topic_words = dict(topics[i][1])\n",
        "    cloud.generate_from_frequencies(topic_words, max_font_size=300)\n",
        "    plt.gca().imshow(cloud)\n",
        "    plt.gca().set_title('Topic ' + str(i), fontdict=dict(size=16))\n",
        "    plt.gca().axis('off')\n",
        "\n",
        "\n",
        "plt.subplots_adjust(wspace=0, hspace=0)\n",
        "plt.axis('off')\n",
        "plt.margins(x=0, y=0)\n",
        "plt.tight_layout()\n",
        "plt.show()"
      ],
      "outputs": [],
      "execution_count": null,
      "metadata": {
        "collapsed": true,
        "jupyter": {
          "source_hidden": false,
          "outputs_hidden": false
        },
        "nteract": {
          "transient": {
            "deleting": false
          }
        },
        "execution": {
          "iopub.status.busy": "2022-05-11T15:52:36.913Z",
          "iopub.execute_input": "2022-05-11T15:52:36.935Z",
          "iopub.status.idle": "2022-05-11T15:52:44.369Z",
          "shell.execute_reply": "2022-05-11T15:52:44.399Z"
        }
      }
    },
    {
      "cell_type": "code",
      "source": [
        "import warnings\n",
        "\n",
        "\n",
        "import pyLDAvis\n",
        "import pyLDAvis.gensim_models\n",
        "\n",
        "pyLDAvis.enable_notebook(local = True)\n",
        "vis = pyLDAvis.gensim_models.prepare(lda_model, corpus, id2word)\n",
        "pyLDAvis.show(vis)\n",
        "\n",
        "\n",
        "\n",
        "warnings.filterwarnings(\"ignore\", category=DeprecationWarning)"
      ],
      "outputs": [],
      "execution_count": null,
      "metadata": {
        "collapsed": true,
        "jupyter": {
          "source_hidden": false,
          "outputs_hidden": false
        },
        "nteract": {
          "transient": {
            "deleting": false
          }
        },
        "execution": {
          "iopub.status.busy": "2022-05-11T16:05:00.923Z",
          "iopub.execute_input": "2022-05-11T16:05:00.962Z",
          "iopub.status.idle": "2022-05-07T20:01:14.630Z",
          "shell.execute_reply": "2022-05-07T20:01:14.724Z"
        }
      }
    },
    {
      "cell_type": "code",
      "source": [
        "from gsdmm import MovieGroupProcess\n",
        "import random"
      ],
      "outputs": [],
      "execution_count": null,
      "metadata": {
        "collapsed": true,
        "jupyter": {
          "source_hidden": false,
          "outputs_hidden": false
        },
        "nteract": {
          "transient": {
            "deleting": false
          }
        },
        "execution": {
          "iopub.status.busy": "2022-05-11T15:53:06.817Z",
          "iopub.execute_input": "2022-05-11T15:53:06.837Z",
          "iopub.status.idle": "2022-05-11T15:53:06.864Z",
          "shell.execute_reply": "2022-05-11T15:53:06.885Z"
        }
      }
    },
    {
      "cell_type": "code",
      "source": [
        "docs = data_ready\n",
        "vocab = set(x for doc in docs for x in doc)\n",
        "\n",
        "# Train a new model \n",
        "random.seed(1000)\n",
        "# Init of the Gibbs Sampling Dirichlet Mixture Model algorithm\n",
        "mgp = MovieGroupProcess(K=6, alpha=0.3, beta=0.4, n_iters=20)\n",
        "\n",
        "vocab = set(x for doc in docs for x in doc)\n",
        "n_terms = len(vocab)\n",
        "n_docs = len(docs)\n",
        "\n",
        "# Fit the model on the data given the chosen seeds\n",
        "y = mgp.fit(docs, n_terms)"
      ],
      "outputs": [],
      "execution_count": null,
      "metadata": {
        "collapsed": true,
        "jupyter": {
          "source_hidden": false,
          "outputs_hidden": false
        },
        "nteract": {
          "transient": {
            "deleting": false
          }
        },
        "execution": {
          "iopub.status.busy": "2022-05-11T15:53:15.027Z",
          "iopub.execute_input": "2022-05-11T15:53:15.045Z",
          "iopub.status.idle": "2022-05-11T15:53:17.348Z",
          "shell.execute_reply": "2022-05-11T15:53:17.374Z"
        }
      }
    },
    {
      "cell_type": "code",
      "source": [
        "import numpy as np\n",
        "\n",
        "def top_words(cluster_word_distribution, top_cluster, values):\n",
        "    for cluster in top_cluster:\n",
        "        sort_dicts = sorted(\n",
        "            mgp.cluster_word_distribution[cluster].items(),\n",
        "            key=lambda k: k[1],\n",
        "            reverse=True,\n",
        "        )[:values]\n",
        "        print('Cluster %s : %s'%(cluster,sort_dicts))\n",
        "        print(' — — — — — — — — — ')\n",
        "\n",
        "doc_count = np.array(mgp.cluster_doc_count)\n",
        "print('Number of documents per topic :', doc_count)\n",
        "print('*'*20)"
      ],
      "outputs": [],
      "execution_count": null,
      "metadata": {
        "collapsed": true,
        "jupyter": {
          "source_hidden": false,
          "outputs_hidden": false
        },
        "nteract": {
          "transient": {
            "deleting": false
          }
        },
        "execution": {
          "iopub.status.busy": "2022-05-11T15:53:21.066Z",
          "iopub.execute_input": "2022-05-11T15:53:21.088Z",
          "iopub.status.idle": "2022-05-11T15:53:21.127Z",
          "shell.execute_reply": "2022-05-11T15:53:21.140Z"
        }
      }
    },
    {
      "cell_type": "code",
      "source": [
        "# Topics sorted by the number of document they are allocated to\n",
        "top_index = doc_count.argsort()[-10:][::-1]\n",
        "print('Most important clusters (by number of docs inside):', top_index)\n",
        "print('*'*20)\n",
        "\n",
        "\n",
        "# Show the top 10 words in term frequency for each cluster \n",
        "top_words(mgp.cluster_word_distribution, top_index, 10)"
      ],
      "outputs": [],
      "execution_count": null,
      "metadata": {
        "collapsed": true,
        "jupyter": {
          "source_hidden": false,
          "outputs_hidden": false
        },
        "nteract": {
          "transient": {
            "deleting": false
          }
        },
        "execution": {
          "iopub.status.busy": "2022-05-11T15:53:27.345Z",
          "iopub.execute_input": "2022-05-11T15:53:27.363Z",
          "iopub.status.idle": "2022-05-11T15:53:27.396Z",
          "shell.execute_reply": "2022-05-11T15:53:27.411Z"
        }
      }
    }
  ],
  "metadata": {
    "kernel_info": {
      "name": "python3"
    },
    "language_info": {
      "name": "python",
      "version": "3.8.8",
      "mimetype": "text/x-python",
      "codemirror_mode": {
        "name": "ipython",
        "version": 3
      },
      "pygments_lexer": "ipython3",
      "nbconvert_exporter": "python",
      "file_extension": ".py"
    },
    "kernelspec": {
      "argv": [
        "C:/Users/hamlet/anaconda3\\python.exe",
        "-m",
        "ipykernel_launcher",
        "-f",
        "{connection_file}"
      ],
      "display_name": "Python 3",
      "language": "python",
      "name": "python3"
    },
    "nteract": {
      "version": "0.28.0"
    }
  },
  "nbformat": 4,
  "nbformat_minor": 0
}