{
  "cells": [
    {
      "cell_type": "code",
      "source": [
        "data = \"IDENTIDAD_CULTURAL_GOOGLE_SEARCH.csv\""
      ],
      "outputs": [],
      "execution_count": null,
      "metadata": {
        "collapsed": true,
        "jupyter": {
          "source_hidden": false,
          "outputs_hidden": false
        },
        "nteract": {
          "transient": {
            "deleting": false
          }
        },
        "execution": {
          "iopub.status.busy": "2022-05-11T15:04:08.351Z",
          "iopub.execute_input": "2022-05-11T15:04:08.374Z",
          "iopub.status.idle": "2022-05-11T15:04:08.388Z",
          "shell.execute_reply": "2022-05-11T15:04:08.266Z"
        }
      }
    },
    {
      "cell_type": "code",
      "source": [
        "warnings.filterwarnings('ignore')\n",
        "warnings.simplefilter('ignore', category=DeprecationWarning)"
      ],
      "outputs": [],
      "execution_count": null,
      "metadata": {
        "collapsed": true,
        "jupyter": {
          "source_hidden": false,
          "outputs_hidden": false
        },
        "nteract": {
          "transient": {
            "deleting": false
          }
        },
        "execution": {
          "iopub.status.busy": "2022-05-11T15:26:09.582Z",
          "iopub.execute_input": "2022-05-11T15:26:09.598Z",
          "iopub.status.idle": "2022-05-11T15:26:09.622Z",
          "shell.execute_reply": "2022-05-11T15:26:09.637Z"
        }
      }
    },
    {
      "cell_type": "code",
      "source": [
        "import pandas as pd\n",
        "import matplotlib.pyplot as plt\n",
        "plt.style.use('ggplot')\n",
        "plt.rcParams['figure.figsize'] = [16, 5]\n",
        "import textacy\n",
        "import re"
      ],
      "outputs": [],
      "execution_count": null,
      "metadata": {
        "collapsed": true,
        "jupyter": {
          "source_hidden": false,
          "outputs_hidden": false
        },
        "nteract": {
          "transient": {
            "deleting": false
          }
        },
        "execution": {
          "iopub.status.busy": "2022-05-11T15:04:08.407Z",
          "iopub.execute_input": "2022-05-11T15:04:08.420Z",
          "shell.execute_reply": "2022-05-11T15:04:53.381Z",
          "iopub.status.idle": "2022-05-11T15:04:53.321Z"
        }
      }
    },
    {
      "cell_type": "code",
      "source": [
        "df = pd.read_csv(data)"
      ],
      "outputs": [],
      "execution_count": null,
      "metadata": {
        "collapsed": true,
        "jupyter": {
          "source_hidden": false,
          "outputs_hidden": false
        },
        "nteract": {
          "transient": {
            "deleting": false
          }
        },
        "execution": {
          "iopub.status.busy": "2022-05-11T15:04:53.345Z",
          "iopub.execute_input": "2022-05-11T15:04:53.360Z",
          "shell.execute_reply": "2022-05-11T15:04:53.505Z",
          "iopub.status.idle": "2022-05-11T15:04:53.445Z"
        }
      }
    },
    {
      "cell_type": "code",
      "source": [
        "df.describe()"
      ],
      "outputs": [],
      "execution_count": null,
      "metadata": {
        "collapsed": true,
        "jupyter": {
          "source_hidden": false,
          "outputs_hidden": false
        },
        "nteract": {
          "transient": {
            "deleting": false
          }
        },
        "execution": {
          "iopub.status.busy": "2022-05-11T15:04:53.469Z",
          "iopub.execute_input": "2022-05-11T15:04:53.482Z",
          "iopub.status.idle": "2022-05-11T15:04:53.660Z",
          "shell.execute_reply": "2022-05-11T15:04:53.817Z"
        }
      }
    },
    {
      "cell_type": "code",
      "source": [
        "df.columns"
      ],
      "outputs": [],
      "execution_count": null,
      "metadata": {
        "collapsed": true,
        "jupyter": {
          "source_hidden": false,
          "outputs_hidden": false
        },
        "nteract": {
          "transient": {
            "deleting": false
          }
        },
        "execution": {
          "iopub.status.busy": "2022-05-11T15:04:53.682Z",
          "iopub.execute_input": "2022-05-11T15:04:53.697Z",
          "iopub.status.idle": "2022-05-11T15:04:53.731Z",
          "shell.execute_reply": "2022-05-11T15:04:53.825Z"
        }
      }
    },
    {
      "cell_type": "code",
      "source": [
        "#fig, ax = plt.subplots(figsize = (16, 5))\n",
        "df.groupby(df['Year']).size().plot.bar()"
      ],
      "outputs": [],
      "execution_count": null,
      "metadata": {
        "collapsed": true,
        "jupyter": {
          "source_hidden": false,
          "outputs_hidden": false
        },
        "nteract": {
          "transient": {
            "deleting": false
          }
        },
        "execution": {
          "iopub.status.busy": "2022-05-11T15:04:53.755Z",
          "iopub.execute_input": "2022-05-11T15:04:53.771Z",
          "iopub.status.idle": "2022-05-11T15:04:55.523Z",
          "shell.execute_reply": "2022-05-11T15:04:55.595Z"
        }
      }
    },
    {
      "cell_type": "code",
      "source": [
        "df['RankRange'] = pd.qcut(df['CitesPerYear'], q = 3, labels = ['B', 'M', 'A'], duplicates = 'drop')"
      ],
      "outputs": [],
      "execution_count": null,
      "metadata": {
        "collapsed": true,
        "jupyter": {
          "source_hidden": false,
          "outputs_hidden": false
        },
        "nteract": {
          "transient": {
            "deleting": false
          }
        },
        "execution": {
          "iopub.status.busy": "2022-05-11T15:33:16.104Z",
          "iopub.execute_input": "2022-05-11T15:33:16.122Z",
          "iopub.status.idle": "2022-05-11T15:33:16.146Z",
          "shell.execute_reply": "2022-05-11T15:33:16.169Z"
        }
      }
    },
    {
      "cell_type": "code",
      "source": [
        "df"
      ],
      "outputs": [],
      "execution_count": null,
      "metadata": {
        "collapsed": true,
        "jupyter": {
          "source_hidden": false,
          "outputs_hidden": false
        },
        "nteract": {
          "transient": {
            "deleting": false
          }
        },
        "execution": {
          "iopub.status.busy": "2022-05-11T15:33:18.359Z",
          "iopub.execute_input": "2022-05-11T15:33:18.376Z",
          "iopub.status.idle": "2022-05-11T15:33:18.416Z",
          "shell.execute_reply": "2022-05-11T15:33:18.465Z"
        }
      }
    },
    {
      "cell_type": "code",
      "source": [
        "df.RankRange.describe()"
      ],
      "outputs": [],
      "execution_count": null,
      "metadata": {
        "collapsed": true,
        "jupyter": {
          "source_hidden": false,
          "outputs_hidden": false
        },
        "nteract": {
          "transient": {
            "deleting": false
          }
        },
        "execution": {
          "iopub.status.busy": "2022-05-11T15:33:37.193Z",
          "iopub.execute_input": "2022-05-11T15:33:37.213Z",
          "iopub.status.idle": "2022-05-11T15:33:37.254Z",
          "shell.execute_reply": "2022-05-11T15:33:37.272Z"
        }
      }
    },
    {
      "cell_type": "code",
      "source": [
        "\n",
        "df_crtb = pd.crosstab(df['Year'], df['RankRange'])\n"
      ],
      "outputs": [],
      "execution_count": null,
      "metadata": {
        "collapsed": true,
        "jupyter": {
          "source_hidden": false,
          "outputs_hidden": false
        },
        "nteract": {
          "transient": {
            "deleting": false
          }
        },
        "execution": {
          "iopub.status.busy": "2022-05-11T15:33:39.263Z",
          "iopub.execute_input": "2022-05-11T15:33:39.280Z",
          "iopub.status.idle": "2022-05-11T15:33:39.305Z",
          "shell.execute_reply": "2022-05-11T15:33:39.320Z"
        }
      }
    },
    {
      "cell_type": "code",
      "source": [
        "df_crtb"
      ],
      "outputs": [],
      "execution_count": null,
      "metadata": {
        "collapsed": true,
        "jupyter": {
          "source_hidden": false,
          "outputs_hidden": false
        },
        "nteract": {
          "transient": {
            "deleting": false
          }
        },
        "execution": {
          "iopub.status.busy": "2022-05-11T15:33:41.288Z",
          "iopub.execute_input": "2022-05-11T15:33:41.307Z",
          "iopub.status.idle": "2022-05-11T15:33:41.338Z",
          "shell.execute_reply": "2022-05-11T15:33:41.352Z"
        }
      }
    },
    {
      "cell_type": "code",
      "source": [
        "#plt.figure(figsize = (16, 5))\n",
        "df_crtb.plot.bar()"
      ],
      "outputs": [],
      "execution_count": null,
      "metadata": {
        "collapsed": true,
        "jupyter": {
          "source_hidden": false,
          "outputs_hidden": false
        },
        "nteract": {
          "transient": {
            "deleting": false
          }
        },
        "execution": {
          "iopub.status.busy": "2022-05-11T15:33:48.834Z",
          "iopub.execute_input": "2022-05-11T15:33:48.854Z",
          "iopub.status.idle": "2022-05-11T15:33:50.115Z",
          "shell.execute_reply": "2022-05-11T15:33:50.148Z"
        }
      }
    },
    {
      "cell_type": "code",
      "source": [
        "serie_publisher = df.groupby(df['Publisher']).size().sort_values(ascending=False)\n",
        "serie_publisher.head(15)"
      ],
      "outputs": [],
      "execution_count": null,
      "metadata": {
        "collapsed": true,
        "jupyter": {
          "source_hidden": false,
          "outputs_hidden": false
        },
        "nteract": {
          "transient": {
            "deleting": false
          }
        },
        "execution": {
          "iopub.status.busy": "2022-05-11T15:37:00.127Z",
          "iopub.execute_input": "2022-05-11T15:37:00.154Z",
          "iopub.status.idle": "2022-05-11T15:37:00.192Z",
          "shell.execute_reply": "2022-05-11T15:37:00.212Z"
        }
      }
    },
    {
      "cell_type": "code",
      "source": [
        "serie_author = df.groupby(df['Authors']).size().sort_values(ascending=False)\n",
        "serie_author.head(15)"
      ],
      "outputs": [],
      "execution_count": null,
      "metadata": {
        "collapsed": true,
        "jupyter": {
          "source_hidden": false,
          "outputs_hidden": false
        },
        "nteract": {
          "transient": {
            "deleting": false
          }
        },
        "execution": {
          "iopub.status.busy": "2022-05-11T15:37:06.288Z",
          "iopub.execute_input": "2022-05-11T15:37:06.307Z",
          "iopub.status.idle": "2022-05-11T15:37:06.352Z",
          "shell.execute_reply": "2022-05-11T15:37:06.372Z"
        }
      }
    },
    {
      "cell_type": "code",
      "source": [
        "import gensim, spacy, logging, warnings\n",
        "import gensim.corpora as corpora\n",
        "from gensim.utils import simple_preprocess\n",
        "from gensim.models import CoherenceModel\n",
        "\n",
        "from nltk.stem.wordnet import WordNetLemmatizer\n",
        "from nltk.corpus import stopwords\n",
        "stop_words = stopwords.words('spanish')"
      ],
      "outputs": [],
      "execution_count": null,
      "metadata": {
        "collapsed": true,
        "jupyter": {
          "source_hidden": false,
          "outputs_hidden": false
        },
        "nteract": {
          "transient": {
            "deleting": false
          }
        },
        "execution": {
          "iopub.status.busy": "2022-05-11T15:40:06.740Z",
          "iopub.execute_input": "2022-05-11T15:40:06.763Z",
          "iopub.status.idle": "2022-05-11T15:40:06.794Z",
          "shell.execute_reply": "2022-05-11T15:40:06.810Z"
        }
      }
    },
    {
      "cell_type": "code",
      "source": [
        "stop_words.append('cultural')\n",
        "stop_words.append('identidad')\n",
        "stop_words.append('articulo')\n",
        "stop_words.append('estudio')"
      ],
      "outputs": [],
      "execution_count": null,
      "metadata": {
        "collapsed": true,
        "jupyter": {
          "source_hidden": false,
          "outputs_hidden": false
        },
        "nteract": {
          "transient": {
            "deleting": false
          }
        },
        "execution": {
          "iopub.status.busy": "2022-05-11T15:41:50.563Z",
          "iopub.execute_input": "2022-05-11T15:41:50.581Z",
          "iopub.status.idle": "2022-05-11T15:41:50.617Z",
          "shell.execute_reply": "2022-05-11T15:41:50.638Z"
        }
      }
    },
    {
      "cell_type": "code",
      "source": [
        "def sent_to_words(sentences):\n",
        "  for sent in sentences:\n",
        "    #sent = re.sub(\"\\s+\", \" \", sent)  # remove newline chars\n",
        "    #sent = re.sub(\"\\'\", \"\", sent)  # remove single quotes\n",
        "    sent = gensim.utils.simple_preprocess(str(sent), deacc=True)\n",
        "    yield(sent)"
      ],
      "outputs": [],
      "execution_count": null,
      "metadata": {
        "collapsed": true,
        "jupyter": {
          "source_hidden": false,
          "outputs_hidden": false
        },
        "nteract": {
          "transient": {
            "deleting": false
          }
        },
        "execution": {
          "iopub.status.busy": "2022-05-11T15:41:51.880Z",
          "iopub.execute_input": "2022-05-11T15:41:51.901Z",
          "iopub.status.idle": "2022-05-11T15:41:51.928Z",
          "shell.execute_reply": "2022-05-11T15:41:51.944Z"
        }
      }
    },
    {
      "cell_type": "code",
      "source": [
        "text_data = df['Title'].values.tolist()\n",
        "data_words = list(sent_to_words(text_data))"
      ],
      "outputs": [],
      "execution_count": null,
      "metadata": {
        "collapsed": true,
        "jupyter": {
          "source_hidden": false,
          "outputs_hidden": false
        },
        "nteract": {
          "transient": {
            "deleting": false
          }
        },
        "execution": {
          "iopub.status.busy": "2022-05-11T15:43:14.088Z",
          "iopub.execute_input": "2022-05-11T15:43:14.106Z",
          "iopub.status.idle": "2022-05-11T15:43:14.132Z",
          "shell.execute_reply": "2022-05-11T15:43:14.156Z"
        }
      }
    },
    {
      "cell_type": "code",
      "source": [
        "bigram = gensim.models.Phrases(data_words, min_count=5, threshold=100) # higher threshold fewer phrases.\n",
        "trigram = gensim.models.Phrases(bigram[data_words], threshold=100)  \n",
        "bigram_mod = gensim.models.phrases.Phraser(bigram)\n",
        "trigram_mod = gensim.models.phrases.Phraser(trigram)"
      ],
      "outputs": [],
      "execution_count": null,
      "metadata": {
        "collapsed": true,
        "jupyter": {
          "source_hidden": false,
          "outputs_hidden": false
        },
        "nteract": {
          "transient": {
            "deleting": false
          }
        },
        "execution": {
          "iopub.status.busy": "2022-05-11T15:43:16.133Z",
          "iopub.execute_input": "2022-05-11T15:43:16.156Z",
          "shell.execute_reply": "2022-05-11T15:43:16.245Z",
          "iopub.status.idle": "2022-05-11T15:43:16.219Z"
        }
      }
    },
    {
      "cell_type": "code",
      "source": [
        "def process_words(texts, stop_words=stop_words, allowed_postags=['NOUN', 'ADJ', 'VERB', 'ADV']):\n",
        "    \"\"\"Remove Stopwords, Form Bigrams, Trigrams and Lemmatization\"\"\"\n",
        "    texts = [[word for word in simple_preprocess(str(doc)) if word not in stop_words] for doc in texts]\n",
        "    texts = [bigram_mod[doc] for doc in texts]\n",
        "    texts = [trigram_mod[bigram_mod[doc]] for doc in texts]\n",
        "    texts_out = []\n",
        "    nlp = spacy.load(\"es_core_news_sm\", disable=['parser', 'ner'])\n",
        "    for sent in texts:\n",
        "        doc = nlp(\" \".join(sent)) \n",
        "        texts_out.append([token.lemma_ for token in doc if token.pos_ in allowed_postags])\n",
        "    # remove stopwords once more after lemmatization\n",
        "    texts_out = [[word for word in simple_preprocess(str(doc)) if word not in stop_words] for doc in texts_out]    \n",
        "    return texts_out"
      ],
      "outputs": [],
      "execution_count": null,
      "metadata": {
        "collapsed": true,
        "jupyter": {
          "source_hidden": false,
          "outputs_hidden": false
        },
        "nteract": {
          "transient": {
            "deleting": false
          }
        },
        "execution": {
          "iopub.status.busy": "2022-05-11T15:43:18.233Z",
          "iopub.execute_input": "2022-05-11T15:43:18.252Z",
          "iopub.status.idle": "2022-05-11T15:43:18.277Z",
          "shell.execute_reply": "2022-05-11T15:43:18.293Z"
        }
      }
    },
    {
      "cell_type": "code",
      "source": [
        "data_ready = process_words(data_words)"
      ],
      "outputs": [],
      "execution_count": null,
      "metadata": {
        "collapsed": true,
        "jupyter": {
          "source_hidden": false,
          "outputs_hidden": false
        },
        "nteract": {
          "transient": {
            "deleting": false
          }
        },
        "execution": {
          "iopub.status.busy": "2022-05-11T15:43:21.533Z",
          "iopub.execute_input": "2022-05-11T15:43:21.552Z",
          "shell.execute_reply": "2022-05-11T15:43:25.053Z",
          "iopub.status.idle": "2022-05-11T15:43:25.074Z"
        }
      }
    },
    {
      "cell_type": "code",
      "source": [
        "# Create Dictionary\n",
        "id2word = corpora.Dictionary(data_ready)\n",
        "\n",
        "# Create Corpus: Term Document Frequency\n",
        "corpus = [id2word.doc2bow(text) for text in data_ready]\n",
        "\n",
        "# Build LDA model\n",
        "lda_model = gensim.models.ldamodel.LdaModel(corpus=corpus,\n",
        "                                           id2word=id2word,\n",
        "                                           num_topics=6, \n",
        "                                           random_state=100,\n",
        "                                           update_every=1,\n",
        "                                           chunksize=10,\n",
        "                                           passes=10,\n",
        "                                           alpha='symmetric',\n",
        "                                           iterations=100,\n",
        "                                           per_word_topics=True)\n"
      ],
      "outputs": [],
      "execution_count": null,
      "metadata": {
        "collapsed": true,
        "jupyter": {
          "source_hidden": false,
          "outputs_hidden": false
        },
        "nteract": {
          "transient": {
            "deleting": false
          }
        },
        "execution": {
          "iopub.status.busy": "2022-05-11T15:47:41.988Z",
          "iopub.execute_input": "2022-05-11T15:47:42.007Z",
          "iopub.status.idle": "2022-05-11T15:47:45.143Z",
          "shell.execute_reply": "2022-05-11T15:47:45.169Z"
        }
      }
    },
    {
      "cell_type": "code",
      "source": [
        "from pprint import pprint\n",
        "\n",
        "pprint(lda_model.print_topics())"
      ],
      "outputs": [],
      "execution_count": null,
      "metadata": {
        "collapsed": true,
        "jupyter": {
          "source_hidden": false,
          "outputs_hidden": false
        },
        "nteract": {
          "transient": {
            "deleting": false
          }
        },
        "execution": {
          "iopub.status.busy": "2022-05-11T15:47:46.876Z",
          "iopub.execute_input": "2022-05-11T15:47:46.897Z",
          "iopub.status.idle": "2022-05-11T15:47:46.933Z",
          "shell.execute_reply": "2022-05-11T15:47:46.947Z"
        }
      }
    },
    {
      "cell_type": "code",
      "source": [
        "def format_topics_sentences(ldamodel=None, corpus=corpus, texts=data):\n",
        "    # Init output\n",
        "    sent_topics_df = pd.DataFrame()\n",
        "\n",
        "    # Get main topic in each document\n",
        "    for i, row_list in enumerate(ldamodel[corpus]):\n",
        "        row = row_list[0] if ldamodel.per_word_topics else row_list            \n",
        "        # print(row)\n",
        "        row = sorted(row, key=lambda x: (x[1]), reverse=True)\n",
        "        # Get the Dominant topic, Perc Contribution and Keywords for each document\n",
        "        for j, (topic_num, prop_topic) in enumerate(row):\n",
        "            if j == 0:  # => dominant topic\n",
        "                wp = ldamodel.show_topic(topic_num)\n",
        "                topic_keywords = \", \".join([word for word, prop in wp])\n",
        "                sent_topics_df = sent_topics_df.append(pd.Series([int(topic_num), round(prop_topic,4), topic_keywords]), ignore_index=True)\n",
        "            else:\n",
        "                break\n",
        "    sent_topics_df.columns = ['Dominant_Topic', 'Perc_Contribution', 'Topic_Keywords']\n",
        "    # Add original text to the end of the output\n",
        "    contents = pd.Series(texts)\n",
        "    sent_topics_df = pd.concat([sent_topics_df, contents], axis=1)\n",
        "    return(sent_topics_df)\n",
        "      "
      ],
      "outputs": [],
      "execution_count": null,
      "metadata": {
        "collapsed": true,
        "jupyter": {
          "source_hidden": false,
          "outputs_hidden": false
        },
        "nteract": {
          "transient": {
            "deleting": false
          }
        },
        "execution": {
          "iopub.status.busy": "2022-05-11T15:48:23.727Z",
          "iopub.execute_input": "2022-05-11T15:48:23.754Z",
          "iopub.status.idle": "2022-05-11T15:48:23.785Z",
          "shell.execute_reply": "2022-05-11T15:48:23.803Z"
        }
      }
    },
    {
      "cell_type": "code",
      "source": [
        "df_topic_sents_keywords = format_topics_sentences(ldamodel=lda_model, corpus=corpus, texts=data_ready)\n",
        "\n",
        "# Display setting to show more characters in column\n",
        "pd.options.display.max_colwidth = 100\n",
        "\n",
        "sent_topics_sorteddf_mallet = pd.DataFrame()\n",
        "sent_topics_outdf_grpd = df_topic_sents_keywords.groupby('Dominant_Topic')\n",
        "\n",
        "for i, grp in sent_topics_outdf_grpd:\n",
        "    sent_topics_sorteddf_mallet = pd.concat([sent_topics_sorteddf_mallet, \n",
        "                                             grp.sort_values(['Perc_Contribution'], ascending=False).head(1)], \n",
        "                                            axis=0)\n",
        "\n",
        "# Reset Index    \n",
        "sent_topics_sorteddf_mallet.reset_index(drop=True, inplace=True)\n",
        "\n",
        "# Format\n",
        "sent_topics_sorteddf_mallet.columns = ['Topic_Num', \"Topic_Perc_Contrib\", \"Keywords\", \"Representative Text\"]\n",
        "\n",
        "# Show\n",
        "sent_topics_sorteddf_mallet.head(10)"
      ],
      "outputs": [],
      "execution_count": null,
      "metadata": {
        "collapsed": true,
        "jupyter": {
          "source_hidden": false,
          "outputs_hidden": false
        },
        "nteract": {
          "transient": {
            "deleting": false
          }
        },
        "execution": {
          "iopub.status.busy": "2022-05-11T15:48:27.645Z",
          "iopub.execute_input": "2022-05-11T15:48:27.669Z",
          "iopub.status.idle": "2022-05-11T15:48:30.648Z",
          "shell.execute_reply": "2022-05-11T15:48:30.686Z"
        }
      }
    },
    {
      "cell_type": "code",
      "source": [
        "import matplotlib.colors as mcolors\n",
        "from wordcloud import WordCloud, STOPWORDS\n",
        "\n",
        "cols = [color for name, color in mcolors.TABLEAU_COLORS.items()] \n",
        "\n",
        "cloud = WordCloud(stopwords=stop_words,\n",
        "                  background_color='white',\n",
        "                  width=2500,\n",
        "                  height=1800,\n",
        "                  max_words=10,\n",
        "                  colormap='tab10',\n",
        "                  color_func=lambda *args, **kwargs: cols[i],\n",
        "                  prefer_horizontal=1.0)\n",
        "\n",
        "topics = lda_model.show_topics(formatted=False)\n",
        "\n",
        "fig, axes = plt.subplots(2, 3, figsize=(10,10), sharex=True, sharey=True)\n",
        "\n",
        "for i, ax in enumerate(axes.flatten()):\n",
        "    #if i >= 5:\n",
        "     # break\n",
        "    fig.add_subplot(ax)\n",
        "    topic_words = dict(topics[i][1])\n",
        "    cloud.generate_from_frequencies(topic_words, max_font_size=300)\n",
        "    plt.gca().imshow(cloud)\n",
        "    plt.gca().set_title('Topic ' + str(i), fontdict=dict(size=16))\n",
        "    plt.gca().axis('off')\n",
        "\n",
        "\n",
        "plt.subplots_adjust(wspace=0, hspace=0)\n",
        "plt.axis('off')\n",
        "plt.margins(x=0, y=0)\n",
        "plt.tight_layout()\n",
        "plt.show()"
      ],
      "outputs": [],
      "execution_count": null,
      "metadata": {
        "collapsed": true,
        "jupyter": {
          "source_hidden": false,
          "outputs_hidden": false
        },
        "nteract": {
          "transient": {
            "deleting": false
          }
        },
        "execution": {
          "iopub.status.busy": "2022-05-11T15:48:44.813Z",
          "iopub.execute_input": "2022-05-11T15:48:44.839Z",
          "iopub.status.idle": "2022-05-11T15:48:52.433Z",
          "shell.execute_reply": "2022-05-11T15:48:52.463Z"
        }
      }
    },
    {
      "cell_type": "code",
      "source": [
        "import warnings\n",
        "\n",
        "\n",
        "import pyLDAvis\n",
        "import pyLDAvis.gensim_models\n",
        "\n",
        "pyLDAvis.enable_notebook(local = True)\n",
        "vis = pyLDAvis.gensim_models.prepare(lda_model, corpus, id2word)\n",
        "pyLDAvis.show(vis)\n",
        "\n",
        "\n",
        "\n",
        "warnings.filterwarnings(\"ignore\", category=DeprecationWarning)"
      ],
      "outputs": [],
      "execution_count": null,
      "metadata": {
        "collapsed": true,
        "jupyter": {
          "source_hidden": false,
          "outputs_hidden": false
        },
        "nteract": {
          "transient": {
            "deleting": false
          }
        },
        "execution": {
          "iopub.status.busy": "2022-03-21T00:55:59.210Z",
          "iopub.execute_input": "2022-03-21T00:55:59.223Z",
          "iopub.status.idle": "2022-03-20T23:47:55.084Z",
          "shell.execute_reply": "2022-03-20T23:47:55.098Z"
        }
      }
    },
    {
      "cell_type": "code",
      "source": [
        "from gsdmm import MovieGroupProcess\n",
        "import random"
      ],
      "outputs": [],
      "execution_count": null,
      "metadata": {
        "collapsed": true,
        "jupyter": {
          "source_hidden": false,
          "outputs_hidden": false
        },
        "nteract": {
          "transient": {
            "deleting": false
          }
        },
        "execution": {
          "iopub.status.busy": "2022-05-11T15:38:54.696Z",
          "iopub.execute_input": "2022-05-11T15:38:54.727Z",
          "iopub.status.idle": "2022-05-11T15:38:54.755Z",
          "shell.execute_reply": "2022-05-11T15:38:54.772Z"
        }
      }
    },
    {
      "cell_type": "code",
      "source": [
        "docs = data_ready\n",
        "vocab = set(x for doc in docs for x in doc)\n",
        "\n",
        "# Train a new model \n",
        "random.seed(1000)\n",
        "# Init of the Gibbs Sampling Dirichlet Mixture Model algorithm\n",
        "mgp = MovieGroupProcess(K=6, alpha=0.3, beta=0.4, n_iters=20)\n",
        "\n",
        "vocab = set(x for doc in docs for x in doc)\n",
        "n_terms = len(vocab)\n",
        "n_docs = len(docs)\n",
        "\n",
        "# Fit the model on the data given the chosen seeds\n",
        "y = mgp.fit(docs, n_terms)"
      ],
      "outputs": [],
      "execution_count": null,
      "metadata": {
        "collapsed": true,
        "jupyter": {
          "source_hidden": false,
          "outputs_hidden": false
        },
        "nteract": {
          "transient": {
            "deleting": false
          }
        },
        "execution": {
          "iopub.status.busy": "2022-05-11T15:49:10.517Z",
          "iopub.execute_input": "2022-05-11T15:49:10.539Z",
          "iopub.status.idle": "2022-05-11T15:49:12.819Z",
          "shell.execute_reply": "2022-05-11T15:49:12.797Z"
        }
      }
    },
    {
      "cell_type": "code",
      "source": [
        "import numpy as np\n",
        "\n",
        "def top_words(cluster_word_distribution, top_cluster, values):\n",
        "    for cluster in top_cluster:\n",
        "        sort_dicts = sorted(\n",
        "            mgp.cluster_word_distribution[cluster].items(),\n",
        "            key=lambda k: k[1],\n",
        "            reverse=True,\n",
        "        )[:values]\n",
        "        print('Cluster %s : %s'%(cluster,sort_dicts))\n",
        "        print(' — — — — — — — — — ')\n",
        "\n",
        "doc_count = np.array(mgp.cluster_doc_count)\n",
        "print('Number of documents per topic :', doc_count)\n",
        "print('*'*20)"
      ],
      "outputs": [],
      "execution_count": null,
      "metadata": {
        "collapsed": true,
        "jupyter": {
          "source_hidden": false,
          "outputs_hidden": false
        },
        "nteract": {
          "transient": {
            "deleting": false
          }
        },
        "execution": {
          "iopub.status.busy": "2022-05-11T15:49:16.494Z",
          "iopub.execute_input": "2022-05-11T15:49:16.515Z",
          "iopub.status.idle": "2022-05-11T15:49:16.552Z",
          "shell.execute_reply": "2022-05-11T15:49:16.569Z"
        }
      }
    },
    {
      "cell_type": "code",
      "source": [
        "# Topics sorted by the number of document they are allocated to\n",
        "top_index = doc_count.argsort()[-10:][::-1]\n",
        "print('Most important clusters (by number of docs inside):', top_index)\n",
        "print('*'*20)\n",
        "\n",
        "\n",
        "# Show the top 10 words in term frequency for each cluster \n",
        "top_words(mgp.cluster_word_distribution, top_index, 10)"
      ],
      "outputs": [],
      "execution_count": null,
      "metadata": {
        "collapsed": true,
        "jupyter": {
          "source_hidden": false,
          "outputs_hidden": false
        },
        "nteract": {
          "transient": {
            "deleting": false
          }
        },
        "execution": {
          "iopub.status.busy": "2022-05-11T15:49:20.800Z",
          "iopub.execute_input": "2022-05-11T15:49:20.821Z",
          "iopub.status.idle": "2022-05-11T15:49:20.858Z",
          "shell.execute_reply": "2022-05-11T15:49:20.875Z"
        }
      }
    }
  ],
  "metadata": {
    "kernel_info": {
      "name": "python3"
    },
    "language_info": {
      "name": "python",
      "version": "3.8.8",
      "mimetype": "text/x-python",
      "codemirror_mode": {
        "name": "ipython",
        "version": 3
      },
      "pygments_lexer": "ipython3",
      "nbconvert_exporter": "python",
      "file_extension": ".py"
    },
    "kernelspec": {
      "argv": [
        "C:/Users/hamlet/anaconda3\\python.exe",
        "-m",
        "ipykernel_launcher",
        "-f",
        "{connection_file}"
      ],
      "display_name": "Python 3",
      "language": "python",
      "name": "python3"
    },
    "nteract": {
      "version": "0.28.0"
    }
  },
  "nbformat": 4,
  "nbformat_minor": 0
}